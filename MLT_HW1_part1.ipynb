{
 "cells": [
  {
   "cell_type": "code",
   "execution_count": 3,
   "metadata": {
    "collapsed": true
   },
   "outputs": [],
   "source": [
    "#Q1 \n",
    "#z=5"
   ]
  },
  {
   "cell_type": "code",
   "execution_count": 2,
   "metadata": {
    "collapsed": false
   },
   "outputs": [
    {
     "name": "stdout",
     "output_type": "stream",
     "text": [
      "[[-0.21970141 -0.28015714  0.33323258  0.06819373  0.09843225]]\n",
      "[[ 0.  1.]\n",
      " [ 0. -1.]\n",
      " [-1.  0.]\n",
      " [ 0.  2.]\n",
      " [ 0. -2.]]\n",
      "[-1.66633495]\n"
     ]
    }
   ],
   "source": [
    "#Q2(直接用SVM)\n",
    "from sklearn import svm\n",
    "\n",
    "X = [[1, 0], [0, 1], [0, -1], [-1, 0], [0, 2], [0, -2], [-2, 0]]\n",
    "Y = [-1, -1, -1, 1, 1, 1, 1]\n",
    "\n",
    "clf = svm.SVC(C=1e10, kernel='poly', degree=2, gamma=2, coef0=1)\n",
    "clf.fit(X, Y)\n",
    "\n",
    "#print clf.n_support_        # 支持向量的数目  \n",
    " \n",
    "print(clf.dual_coef_)         #支持向量的系数，公式中的alpha\n",
    "print(clf.support_vectors_)   #支持向量\n",
    "\n",
    "print(clf.intercept_)         #截距，公式中的b"
   ]
  },
  {
   "cell_type": "code",
   "execution_count": 1,
   "metadata": {
    "collapsed": false
   },
   "outputs": [
    {
     "name": "stdout",
     "output_type": "stream",
     "text": [
      "     pcost       dcost       gap    pres   dres\n",
      " 0: -1.9307e+00 -3.9963e+00  2e+01  3e+00  2e+00\n",
      " 1: -2.4557e+00 -3.0153e+00  6e+00  1e+00  6e-01\n",
      " 2: -1.8544e-01 -1.2126e+00  1e+00  2e-16  8e-15\n",
      " 3: -4.6854e-01 -5.4840e-01  8e-02  2e-16  1e-15\n",
      " 4: -4.9836e-01 -5.0061e-01  2e-03  9e-17  3e-16\n",
      " 5: -4.9998e-01 -5.0001e-01  2e-05  5e-17  1e-15\n",
      " 6: -5.0000e-01 -5.0000e-01  2e-07  1e-16  8e-16\n",
      "Optimal solution found.\n",
      "[  2.38938434e-07   2.49999850e-01   2.49999850e-01   3.33333341e-01\n",
      "   8.33332976e-02   8.33332976e-02   3.88655046e-09]\n"
     ]
    }
   ],
   "source": [
    "#Q2(用QP)\n",
    "import numpy as np \n",
    "import cvxopt\n",
    "from cvxopt import matrix\n",
    "\n",
    "x = [[1, 0], [0, 1], [0, -1], [-1, 0], [0, 2], [0, -2], [-2, 0]]\n",
    "y = [-1, -1, -1, 1, 1, 1, 1]\n",
    "\n",
    "def kernel(x_1, x_2):\n",
    "    return np.power((1 + 2*np.dot(x_1, x_2)),2)\n",
    "\n",
    "\n",
    "#step1 設定Q,P,A,c\n",
    "def Q(x,y):\n",
    "    Q_D = np.arange(49).reshape(7,7)\n",
    "    for i in range(7):\n",
    "        for j in range(7):\n",
    "            Q_D[i,j] = y[i]*y[j]*kernel(x[i],x[j])\n",
    "    return Q_D\n",
    "\n",
    "Q_D = matrix(Q(x,y), tc='d')\n",
    "p = matrix(-1*np.ones(len(y)), tc='d')\n",
    "G = matrix(-1*np.eye(7), tc='d')  \n",
    "h = matrix(np.zeros(len(y)), tc='d')\n",
    "A = matrix([[-1], [-1], [-1], [1], [1], [1], [1]], tc='d')\n",
    "c = matrix([0], tc='d')\n",
    "\n",
    "#step2 altha = QP(Q,P,A,c)\n",
    "def cvxopt_solve_qp(P, q, G=None, h=None, A=None, b=None):\n",
    "    P = .5 * (P + P.T)  # make sure P is symmetric\n",
    "    args = [matrix(P), matrix(q)]\n",
    "    if G is not None:\n",
    "        args.extend([matrix(G), matrix(h)])\n",
    "        if A is not None:\n",
    "            args.extend([matrix(A), matrix(b)])\n",
    "    sol = cvxopt.solvers.qp(*args)\n",
    "    return np.array(sol['x']).reshape((len(q),))\n",
    "\n",
    "altha = cvxopt_solve_qp(Q_D, p, G, h, A, c)\n",
    "print(altha)\n",
    "\n",
    "#step3 b = y_s - SUM(altha_n * y_n * K(x_n,x_s)), SV = (x_s,y_s)\n",
    "\n",
    "#step4 return SVs and their altha_n and b\n",
    "\n",
    "#g_svm(x) = sign(SUM(altha_n * y_n * K(x_n,x))+b)"
   ]
  },
  {
   "cell_type": "code",
   "execution_count": null,
   "metadata": {
    "collapsed": true
   },
   "outputs": [],
   "source": [
    "#Q3"
   ]
  },
  {
   "cell_type": "code",
   "execution_count": null,
   "metadata": {
    "collapsed": true
   },
   "outputs": [],
   "source": [
    "#Q4"
   ]
  }
 ],
 "metadata": {
  "kernelspec": {
   "display_name": "Python 3",
   "language": "python",
   "name": "python3"
  },
  "language_info": {
   "codemirror_mode": {
    "name": "ipython",
    "version": 3
   },
   "file_extension": ".py",
   "mimetype": "text/x-python",
   "name": "python",
   "nbconvert_exporter": "python",
   "pygments_lexer": "ipython3",
   "version": "3.6.0"
  }
 },
 "nbformat": 4,
 "nbformat_minor": 2
}
